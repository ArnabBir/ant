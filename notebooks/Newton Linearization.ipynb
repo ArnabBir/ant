{
 "cells": [
  {
   "cell_type": "markdown",
   "metadata": {},
   "source": [
    "## Newton's Linearization Technique\n",
    "\n",
    "You are given non-linear BVP $$ y'' - f(y', y, x) = 0 $$ subject to conditions \n",
    "$$y(a) = y_a $$\n",
    "$$y(b) = y_b $$\n",
    "Discretizing the equation we get a system of equations\n",
    "$$ G_i(y_{i+1}, y_i, y_{i-1}) = 0 $$\n",
    "\n",
    "Since, $f$ is not linear $G_i$ is not a linear system and cannot be solved as a tridiagonal system.\n",
    "$$ G_i(y_{i+1}^{(k)} + \\Delta y_{i+1}^{(k)}, y_{i}^{(k)} + \\Delta y_{i}^{(k)}, y_{i-1}^{(k)} + \\Delta y_{i-1}^{(k)}) = 0 $$\n",
    "Ignore the higer order terms we get:\n",
    "\n",
    "$$ G_i(y_{i+1}^{(k)}, y_{i}^{(k)}, y_{i-1}^{(k)}) + \\Delta y_{i+1}^{(k)} \\frac{\\partial G_i}{\\partial y_{i+1}} |^{(k)} + \\Delta y_{i}^{(k)} \\frac{\\partial G_i}{\\partial y_i} |^{(k)} + \\Delta y_{i-1}^{(k)} \\frac{\\partial G_i}{\\partial y_{i-1}} |^{(k)}= 0 $$\n",
    "\n",
    "Since boundary conditions are known $\\Delta y_0 = 0 $ and $\\Delta y_n = 0 $\n",
    "This is tridiagol linear system can be solved using thomas algorithm"
   ]
  },
  {
   "cell_type": "code",
   "execution_count": 1,
   "metadata": {
    "collapsed": false
   },
   "outputs": [],
   "source": [
    "\n",
    "import numpy as np\n",
    "import matplotlib.pyplot as plt\n",
    "\n",
    "def thomas_algorithm(a, b, c, d):\n",
    "    \"\"\"\n",
    "    Solves the Tridiagonal Linear System\n",
    "          --             -- -- --   -- --\n",
    "          |b_1 c_1        | |f_1|   |d_1|\n",
    "          |a_2 b_2 c_2    | | . |   | . |\n",
    "          |    a_3 . . .  | | . | = | . |\n",
    "          |               | |   |   |   |\n",
    "          |               | |   |   |   |\n",
    "          |       a_n b_n | |f_n|   |d_n|\n",
    "          --             -- -- --   -- --\n",
    "    \"\"\"\n",
    "    assert len(a) == len(b) == len(c) == len(d)\n",
    "    N = len(c)\n",
    "    c_ = [None for i in range(N)]\n",
    "    d_ = [None for i in range(N)]\n",
    "    f = [None for i in range(N)]\n",
    "    c_[0] = c[0]/b[0]\n",
    "    d_[0] = d[0]/b[0]\n",
    "\n",
    "    for i in range(1, N):\n",
    "        c_[i] = c[i]/(b[i] - a[i]*c_[i-1])\n",
    "        d_[i] = (d[i] - a[i]*d_[i-1])/(b[i] - a[i]*c_[i-1])\n",
    "\n",
    "    f[N-1] = d_[N-1]\n",
    "    for i in range(N-2, -1, -1):\n",
    "        f[i] = d_[i] - c_[i]*f[i+1]\n",
    "\n",
    "    return f"
   ]
  },
  {
   "cell_type": "markdown",
   "metadata": {},
   "source": [
    "We are using the Newton's Linearization Technique to solve the equation\n",
    "$$ y'' - (y')^2 - y^2 + y + 1 = 0 $$\n",
    "For the Boundary conditions\n",
    "$$y(0) = 0.5$$\n",
    "$$y(\\pi) = -0.5$$"
   ]
  },
  {
   "cell_type": "code",
   "execution_count": 3,
   "metadata": {
    "collapsed": false
   },
   "outputs": [],
   "source": [
    "dx = 0.01\n",
    "n = int(np.pi/dx)\n",
    "X = np.linspace(0, np.pi, n)\n",
    "\n",
    "# taking initial solution as (pi - x)/(2*pi) - x/(2*pi) = 1/2 - x/pi\n",
    "Y = 0.5 - X/(np.pi)\n",
    "\n",
    "# print Y\n",
    "\n",
    "k = 40\n",
    "\n",
    "for i in range(k):\n",
    "    # We write a_i * Dy_(i-1) + b_i * Dy_i + c_i * Dy_(i+1) = d_i\n",
    "    A = np.array([4 + 2*(Y[i+1] - Y[i-1]) for i in range(1, n-1)],\n",
    "            dtype=np.float16)\n",
    "    B = np.array([4 + 2*(Y[i-1] - Y[i+1]) for i in range(1, n-1)], dtype=np.float16)\n",
    "    C = np.array([-8*dx**2*Y[i] + 4*dx**2 - 8\n",
    "                  for i in range(1, n-1)], dtype=np.float16)\n",
    "    D = np.array([4*dx**2*(-Y[i]**2 + Y[i] + 1) - (Y[i+1] - Y[i-1])**2\n",
    "                  for i in range(1, n-1)], dtype=np.float16)\n",
    "\n",
    "\n",
    "    DY = np.array([0] + thomas_algorithm(A, B, C, D) + [0], dtype=np.float16)\n",
    "\n",
    "    Y = Y + DY\n",
    "\n",
    "# print Y"
   ]
  },
  {
   "cell_type": "code",
   "execution_count": 4,
   "metadata": {
    "collapsed": false
   },
   "outputs": [
    {
     "data": {
      "text/plain": [
       "[<matplotlib.lines.Line2D at 0x7f57edf86550>]"
      ]
     },
     "execution_count": 4,
     "metadata": {},
     "output_type": "execute_result"
    },
    {
     "data": {
      "image/png": "[encoded data removed]",
      "text/plain": [
       "<matplotlib.figure.Figure at 0x7f57eff746d0>"
      ]
     },
     "metadata": {},
     "output_type": "display_data"
    }
   ],
   "source": [
    "%matplotlib inline\n",
    "plt.plot(X, Y)"
   ]
  },
  {
   "cell_type": "code",
   "execution_count": 5,
   "metadata": {
    "collapsed": false
   },
   "outputs": [
    {
     "data": {
      "text/html": [
       "<link href='http://fonts.googleapis.com/css?family=Alegreya+Sans:100,300,400,500,700,800,900,100italic,300italic,400italic,500italic,700italic,800italic,900italic' rel='stylesheet' type='text/css'>\n",
       "<link href='http://fonts.googleapis.com/css?family=Arvo:400,700,400italic' rel='stylesheet' type='text/css'>\n",
       "<link href='http://fonts.googleapis.com/css?family=PT+Mono' rel='stylesheet' type='text/css'>\n",
       "<link href='http://fonts.googleapis.com/css?family=Shadows+Into+Light' rel='stylesheet' type='text/css'>\n",
       "<link href='http://fonts.googleapis.com/css?family=Nixie+One' rel='stylesheet' type='text/css'>\n",
       "<style>\n",
       "\n",
       "@font-face {\n",
       "    font-family: \"Computer Modern\";\n",
       "    src: url('http://mirrors.ctan.org/fonts/cm-unicode/fonts/otf/cmunss.otf');\n",
       "}\n",
       "\n",
       "#notebook_panel { /* main background */\n",
       "    background: rgb(245,245,245);\n",
       "}\n",
       "\n",
       "div.cell { /* set cell width */\n",
       "    width: 750px;\n",
       "}\n",
       "\n",
       "div #notebook { /* centre the content */\n",
       "    background: #fff; /* white background for content */\n",
       "    width: 1000px;\n",
       "    margin: auto;\n",
       "    padding-left: 0em;\n",
       "}\n",
       "\n",
       "#notebook li { /* More space between bullet points */\n",
       "margin-top:0.8em;\n",
       "}\n",
       "\n",
       "/* draw border around running cells */\n",
       "div.cell.border-box-sizing.code_cell.running { \n",
       "    border: 1px solid #111;\n",
       "}\n",
       "\n",
       "/* Put a solid color box around each cell and its output, visually linking them*/\n",
       "div.cell.code_cell {\n",
       "    background-color: rgb(256,256,256); \n",
       "    border-radius: 0px; \n",
       "    padding: 0.5em;\n",
       "    margin-left:1em;\n",
       "    margin-top: 1em;\n",
       "}\n",
       "\n",
       "div.text_cell_render{\n",
       "    font-family: 'Alegreya Sans' sans-serif;\n",
       "    line-height: 140%;\n",
       "    font-size: 125%;\n",
       "    font-weight: 400;\n",
       "    width:600px;\n",
       "    margin-left:auto;\n",
       "    margin-right:auto;\n",
       "}\n",
       "\n",
       "\n",
       "/* Formatting for header cells */\n",
       ".text_cell_render h1 {\n",
       "    font-family: 'Nixie One', serif;\n",
       "    font-style:regular;\n",
       "    font-weight: 400;    \n",
       "    font-size: 45pt;\n",
       "    line-height: 100%;\n",
       "    color: rgb(0,51,102);\n",
       "    margin-bottom: 0.5em;\n",
       "    margin-top: 0.5em;\n",
       "    display: block;\n",
       "}\t\n",
       ".text_cell_render h2 {\n",
       "    font-family: 'Nixie One', serif;\n",
       "    font-weight: 400;\n",
       "    font-size: 30pt;\n",
       "    line-height: 100%;\n",
       "    color: rgb(0,51,102);\n",
       "    margin-bottom: 0.1em;\n",
       "    margin-top: 0.3em;\n",
       "    display: block;\n",
       "}\t\n",
       "\n",
       ".text_cell_render h3 {\n",
       "    font-family: 'Nixie One', serif;\n",
       "    margin-top:16px;\n",
       "\tfont-size: 22pt;\n",
       "    font-weight: 600;\n",
       "    margin-bottom: 3px;\n",
       "    font-style: regular;\n",
       "    color: rgb(102,102,0);\n",
       "}\n",
       "\n",
       ".text_cell_render h4 {    /*Use this for captions*/\n",
       "    font-family: 'Nixie One', serif;\n",
       "    font-size: 14pt;\n",
       "    text-align: center;\n",
       "    margin-top: 0em;\n",
       "    margin-bottom: 2em;\n",
       "    font-style: regular;\n",
       "}\n",
       "\n",
       ".text_cell_render h5 {  /*Use this for small titles*/\n",
       "    font-family: 'Nixie One', sans-serif;\n",
       "    font-weight: 400;\n",
       "    font-size: 16pt;\n",
       "    color: rgb(163,0,0);\n",
       "    font-style: italic;\n",
       "    margin-bottom: .1em;\n",
       "    margin-top: 0.8em;\n",
       "    display: block;\n",
       "}\n",
       "\n",
       ".text_cell_render h6 { /*use this for copyright note*/\n",
       "    font-family: 'PT Mono', sans-serif;\n",
       "    font-weight: 300;\n",
       "    font-size: 9pt;\n",
       "    line-height: 100%;\n",
       "    color: grey;\n",
       "    margin-bottom: 1px;\n",
       "    margin-top: 1px;\n",
       "}\n",
       "\n",
       ".CodeMirror{\n",
       "        font-family: \"PT Mono\";\n",
       "        font-size: 90%;\n",
       "}\n",
       "\n",
       "</style>\n",
       "<script>\n",
       "    MathJax.Hub.Config({\n",
       "                        TeX: {\n",
       "                           extensions: [\"AMSmath.js\"],\n",
       "                           equationNumbers: { autoNumber: \"AMS\", useLabelIds: true}\n",
       "                           },\n",
       "                tex2jax: {\n",
       "                    inlineMath: [ ['$','$'], [\"\\\\(\",\"\\\\)\"] ],\n",
       "                    displayMath: [ ['$$','$$'], [\"\\\\[\",\"\\\\]\"] ]\n",
       "                },\n",
       "                displayAlign: 'center', // Change this to 'center' to center equations.\n",
       "                \"HTML-CSS\": {\n",
       "                    styles: {'.MathJax_Display': {\"margin\": 4}}\n",
       "                }\n",
       "        });\n",
       "</script>\n"
      ],
      "text/plain": [
       "<IPython.core.display.HTML object>"
      ]
     },
     "execution_count": 5,
     "metadata": {},
     "output_type": "execute_result"
    }
   ],
   "source": [
    "# Execute this cell to load the notebook's style sheet, then ignore it\n",
    "# The stylesheets are taken from the numerical methods mooc at\n",
    "# http://openedx.seas.gwu.edu/courses/GW/MAE6286/2014_fall/info\n",
    "from IPython.core.display import HTML\n",
    "css_file = '../styles/numericalmoocstyle.css'\n",
    "HTML(open(css_file, \"r\").read())"
   ]
  }
 ],
 "metadata": {
  "kernelspec": {
   "display_name": "Python 2",
   "language": "python",
   "name": "python2"
  },
  "language_info": {
   "codemirror_mode": {
    "name": "ipython",
    "version": 2
   },
   "file_extension": ".py",
   "mimetype": "text/x-python",
   "name": "python",
   "nbconvert_exporter": "python",
   "pygments_lexer": "ipython2",
   "version": "2.7.9"
  }
 },
 "nbformat": 4,
 "nbformat_minor": 0
}
